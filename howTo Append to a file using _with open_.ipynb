{
 "cells": [
  {
   "cell_type": "code",
   "execution_count": 1,
   "id": "066b3697",
   "metadata": {},
   "outputs": [
    {
     "name": "stdout",
     "output_type": "stream",
     "text": [
      "Enter device name: Cisco 1941 Router\n",
      "Enter device name: Cisco 2950 Catalyst Switch\n",
      "Enter device name: exit\n",
      "All done!\n"
     ]
    }
   ],
   "source": [
    "#_________________________________________________________\n",
    "#\n",
    "# CREATE A PROGRAM THAT APPENDS NEW DEVICE NAMES TO A FILE\n",
    "#_________________________________________________________\n",
    "\n",
    "\n",
    "with open('devices.txt', 'a') as f:              # to append to a file, use mode 'a' following file name\n",
    "    while True:                                  # \"with open\" is the safest way to open files in Python\n",
    "        newItem = input('Enter device name: ')   # files are automatically closed when using \"with open\"\n",
    "        \n",
    "        # TWO METHODS OF CHECKING FOR 'exit' IN USER INPUT, 'newItem'\n",
    "        if 'exit' in newItem: \n",
    "            print('All done!')                   # \"if x in y\" or \"if y == x\" achieve the same thing\n",
    "            break                                # must use double ==, single = is for setting variables\n",
    "#         if newItem == 'exit':                    \n",
    "#             print('All done!')                 # \"break\" ends the \"while True:\" loop\n",
    "#             break\n",
    "            \n",
    "        else:                                    # \"else\" executes only if user input, 'newItem', is not \"exit\"\n",
    "            f.write(newItem + '\\n')\n",
    "\n",
    "            \n",
    "# EXPECTED OUTPUT EXAMPLE:\n",
    "#\n",
    "# Enter device name: Cisco 1941 Router\n",
    "# Enter device name: Cisco 2950 Catalyst Switch\n",
    "# Enter device name: exit\n",
    "# All done!"
   ]
  },
  {
   "cell_type": "code",
   "execution_count": 2,
   "id": "b1c21d9c",
   "metadata": {},
   "outputs": [
    {
     "name": "stdout",
     "output_type": "stream",
     "text": [
      "\n",
      "Cisco 1941 Router\n",
      "Cisco 2950 Catalyst Switch\n",
      "\n"
     ]
    }
   ],
   "source": [
    "# opening file in read mode 'r' so that users can check their file\n",
    "with open('devices.txt', 'r') as a:\n",
    "    file = a.read()\n",
    "    \n",
    "print(file)\n",
    "\n",
    "\n",
    "# EXPECTED OUTPUT EXAMPLE:\n",
    "\n",
    "# Cisco 1941 Router\n",
    "# Cisco 2950 Catalyst Switch"
   ]
  },
  {
   "cell_type": "code",
   "execution_count": null,
   "id": "1b536ca4",
   "metadata": {},
   "outputs": [],
   "source": []
  }
 ],
 "metadata": {
  "kernelspec": {
   "display_name": "Python 3 (ipykernel)",
   "language": "python",
   "name": "python3"
  },
  "language_info": {
   "codemirror_mode": {
    "name": "ipython",
    "version": 3
   },
   "file_extension": ".py",
   "mimetype": "text/x-python",
   "name": "python",
   "nbconvert_exporter": "python",
   "pygments_lexer": "ipython3",
   "version": "3.10.0"
  }
 },
 "nbformat": 4,
 "nbformat_minor": 5
}
